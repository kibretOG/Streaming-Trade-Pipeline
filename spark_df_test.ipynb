{
 "cells": [
  {
   "cell_type": "code",
   "execution_count": 32,
   "metadata": {},
   "outputs": [],
   "source": [
    "from pyspark.sql import SparkSession\n",
    "from pyspark.sql.functions import *\n",
    "from pyspark.sql import Window\n",
    "\n",
    "from pyspark.sql.types import StructType, StructField, StringType, IntegerType, DoubleType, TimestampType\n"
   ]
  },
  {
   "cell_type": "code",
   "execution_count": 45,
   "metadata": {},
   "outputs": [],
   "source": [
    "spark.stop()"
   ]
  },
  {
   "cell_type": "code",
   "execution_count": 33,
   "metadata": {},
   "outputs": [],
   "source": [
    "spark = SparkSession.builder.master(\"local\").appName(\"RandomForestClassifierExample\").getOrCreate()\n"
   ]
  },
  {
   "cell_type": "code",
   "execution_count": 34,
   "metadata": {},
   "outputs": [],
   "source": [
    "exp = {\"id\": \"JPY=X\", \"exchange\": \"CCY\", \"quoteType\": 14, \"price\": 143.16700744628906, \"timestamp\": 1745361575000, \"marketHours\": 1, \"changePercent\": 1.6818382740020752, \"dayVolume\": 0, \"change\": 2.368011474609375, \"priceHint\": 4}"
   ]
  },
  {
   "cell_type": "code",
   "execution_count": 35,
   "metadata": {},
   "outputs": [],
   "source": [
    "import pandas as pd \n",
    "df_pandas = pd.DataFrame(exp, index=[0])"
   ]
  },
  {
   "cell_type": "code",
   "execution_count": 36,
   "metadata": {},
   "outputs": [
    {
     "data": {
      "text/html": [
       "<div>\n",
       "<style scoped>\n",
       "    .dataframe tbody tr th:only-of-type {\n",
       "        vertical-align: middle;\n",
       "    }\n",
       "\n",
       "    .dataframe tbody tr th {\n",
       "        vertical-align: top;\n",
       "    }\n",
       "\n",
       "    .dataframe thead th {\n",
       "        text-align: right;\n",
       "    }\n",
       "</style>\n",
       "<table border=\"1\" class=\"dataframe\">\n",
       "  <thead>\n",
       "    <tr style=\"text-align: right;\">\n",
       "      <th></th>\n",
       "      <th>id</th>\n",
       "      <th>exchange</th>\n",
       "      <th>quoteType</th>\n",
       "      <th>price</th>\n",
       "      <th>timestamp</th>\n",
       "      <th>marketHours</th>\n",
       "      <th>changePercent</th>\n",
       "      <th>dayVolume</th>\n",
       "      <th>change</th>\n",
       "      <th>priceHint</th>\n",
       "    </tr>\n",
       "  </thead>\n",
       "  <tbody>\n",
       "    <tr>\n",
       "      <th>0</th>\n",
       "      <td>JPY=X</td>\n",
       "      <td>CCY</td>\n",
       "      <td>14</td>\n",
       "      <td>143.167007</td>\n",
       "      <td>1745361575000</td>\n",
       "      <td>1</td>\n",
       "      <td>1.681838</td>\n",
       "      <td>0</td>\n",
       "      <td>2.368011</td>\n",
       "      <td>4</td>\n",
       "    </tr>\n",
       "  </tbody>\n",
       "</table>\n",
       "</div>"
      ],
      "text/plain": [
       "      id exchange  quoteType       price      timestamp  marketHours  \\\n",
       "0  JPY=X      CCY         14  143.167007  1745361575000            1   \n",
       "\n",
       "   changePercent  dayVolume    change  priceHint  \n",
       "0       1.681838          0  2.368011          4  "
      ]
     },
     "execution_count": 36,
     "metadata": {},
     "output_type": "execute_result"
    }
   ],
   "source": [
    "df_pandas.head()\n"
   ]
  },
  {
   "cell_type": "code",
   "execution_count": 37,
   "metadata": {},
   "outputs": [],
   "source": [
    "df= spark.createDataFrame(df_pandas)"
   ]
  },
  {
   "cell_type": "code",
   "execution_count": 38,
   "metadata": {},
   "outputs": [
    {
     "name": "stdout",
     "output_type": "stream",
     "text": [
      "+-----+--------+---------+------------------+-------------+-----------+------------------+---------+-----------------+---------+\n",
      "|   id|exchange|quoteType|             price|    timestamp|marketHours|     changePercent|dayVolume|           change|priceHint|\n",
      "+-----+--------+---------+------------------+-------------+-----------+------------------+---------+-----------------+---------+\n",
      "|JPY=X|     CCY|       14|143.16700744628906|1745361575000|          1|1.6818382740020752|        0|2.368011474609375|        4|\n",
      "+-----+--------+---------+------------------+-------------+-----------+------------------+---------+-----------------+---------+\n",
      "\n"
     ]
    }
   ],
   "source": [
    "df.show()"
   ]
  },
  {
   "cell_type": "code",
   "execution_count": 40,
   "metadata": {},
   "outputs": [
    {
     "name": "stdout",
     "output_type": "stream",
     "text": [
      "+-----+--------+---------+------------------+-------------+-----------+------------------+---------+-----------------+---------+\n",
      "|   id|exchange|quoteType|             price|    timestamp|marketHours|     changePercent|dayVolume|           change|priceHint|\n",
      "+-----+--------+---------+------------------+-------------+-----------+------------------+---------+-----------------+---------+\n",
      "|JPY=X|     CCY|       14|143.16700744628906|1745361575000|          1|1.6818382740020752|        0|2.368011474609375|        4|\n",
      "+-----+--------+---------+------------------+-------------+-----------+------------------+---------+-----------------+---------+\n",
      "\n"
     ]
    }
   ],
   "source": [
    "df.show()"
   ]
  },
  {
   "cell_type": "code",
   "execution_count": null,
   "metadata": {},
   "outputs": [
    {
     "name": "stdout",
     "output_type": "stream",
     "text": [
      "+-----+--------+---------+------------------+-----------+------------------+---------+-----------------+---------+-------------------+-------------+\n",
      "|   id|exchange|quoteType|             price|marketHours|     changePercent|dayVolume|           change|priceHint|timestamp_corrected|previos_value|\n",
      "+-----+--------+---------+------------------+-----------+------------------+---------+-----------------+---------+-------------------+-------------+\n",
      "|JPY=X|     CCY|       14|143.16700744628906|          1|1.6818382740020752|        0|2.368011474609375|        4|2025-04-22 15:39:35|          0.0|\n",
      "+-----+--------+---------+------------------+-----------+------------------+---------+-----------------+---------+-------------------+-------------+\n",
      "\n"
     ]
    }
   ],
   "source": [
    "\n",
    "# df = df.withColumn(\"timestamp_corrected\", to_timestamp(\"timestamp\", \"yyyy-MM-dd HH:mm:ss\")).drop(col('timestamp'))\n",
    "\n"
   ]
  },
  {
   "cell_type": "code",
   "execution_count": 42,
   "metadata": {},
   "outputs": [
    {
     "name": "stdout",
     "output_type": "stream",
     "text": [
      "+-----+--------+---------+------------------+-----------+------------------+---------+-----------------+---------+-------------------+\n",
      "|   id|exchange|quoteType|             price|marketHours|     changePercent|dayVolume|           change|priceHint|timestamp_corrected|\n",
      "+-----+--------+---------+------------------+-----------+------------------+---------+-----------------+---------+-------------------+\n",
      "|JPY=X|     CCY|       14|143.16700744628906|          1|1.6818382740020752|        0|2.368011474609375|        4|2025-04-22 15:39:35|\n",
      "+-----+--------+---------+------------------+-----------+------------------+---------+-----------------+---------+-------------------+\n",
      "\n"
     ]
    }
   ],
   "source": [
    "df = df.withColumn(\"timestamp_corrected\", to_timestamp((col('timestamp')/1000).cast(\"timestamp\"), \"yyyy-MM-dd HH:mm:ss\")).drop(col('timestamp'))\n",
    "df.show()"
   ]
  },
  {
   "cell_type": "code",
   "execution_count": null,
   "metadata": {},
   "outputs": [],
   "source": [
    "partition = Window.partitionBy(col('id')).orderBy(col('timestamp_corrected'))\n",
    "df = df.withColumn(\"previos_value\", lag(\"price\", 1, 0).over(partition))"
   ]
  },
  {
   "cell_type": "code",
   "execution_count": null,
   "metadata": {},
   "outputs": [],
   "source": []
  }
 ],
 "metadata": {
  "kernelspec": {
   "display_name": "base",
   "language": "python",
   "name": "python3"
  },
  "language_info": {
   "codemirror_mode": {
    "name": "ipython",
    "version": 3
   },
   "file_extension": ".py",
   "mimetype": "text/x-python",
   "name": "python",
   "nbconvert_exporter": "python",
   "pygments_lexer": "ipython3",
   "version": "3.12.4"
  }
 },
 "nbformat": 4,
 "nbformat_minor": 2
}
